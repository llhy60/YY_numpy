{
 "cells": [
  {
   "cell_type": "code",
   "execution_count": 1,
   "metadata": {},
   "outputs": [],
   "source": [
    "import numpy as np"
   ]
  },
  {
   "cell_type": "code",
   "execution_count": 2,
   "metadata": {},
   "outputs": [
    {
     "name": "stdout",
     "output_type": "stream",
     "text": [
      "70\n"
     ]
    }
   ],
   "source": [
    "x = np.array([1, 2, 3, 4, 5])\n",
    "y = np.array([2, 3, 4, 5, 6])\n",
    "z = np.dot(x, y)\n",
    "print(z)"
   ]
  },
  {
   "cell_type": "code",
   "execution_count": 3,
   "metadata": {},
   "outputs": [
    {
     "name": "stdout",
     "output_type": "stream",
     "text": [
      "[[1 2 3]\n",
      " [3 4 5]\n",
      " [6 7 8]]\n"
     ]
    }
   ],
   "source": [
    "x = np.array([[1, 2, 3], [3, 4, 5], [6, 7, 8]])\n",
    "print(x)"
   ]
  },
  {
   "cell_type": "code",
   "execution_count": 4,
   "metadata": {},
   "outputs": [
    {
     "name": "stdout",
     "output_type": "stream",
     "text": [
      "[[5 4 2]\n",
      " [1 7 9]\n",
      " [0 4 5]]\n"
     ]
    }
   ],
   "source": [
    "y = np.array([[5, 4, 2], [1, 7, 9], [0, 4, 5]])\n",
    "print(y)"
   ]
  },
  {
   "cell_type": "code",
   "execution_count": 5,
   "metadata": {},
   "outputs": [
    {
     "name": "stdout",
     "output_type": "stream",
     "text": [
      "[[ 29  40  51]\n",
      " [ 76  93 110]\n",
      " [ 42  51  60]]\n"
     ]
    }
   ],
   "source": [
    "z = np.dot(y, x)\n",
    "print(z)"
   ]
  },
  {
   "cell_type": "code",
   "execution_count": 6,
   "metadata": {},
   "outputs": [
    {
     "name": "stdout",
     "output_type": "stream",
     "text": [
      "[[1 0 0]\n",
      " [0 2 0]\n",
      " [0 0 3]]\n"
     ]
    }
   ],
   "source": [
    "x = np.diag((1, 2, 3))\n",
    "print(x)"
   ]
  },
  {
   "cell_type": "code",
   "execution_count": 8,
   "metadata": {},
   "outputs": [
    {
     "name": "stdout",
     "output_type": "stream",
     "text": [
      "[1. 2. 3.]\n"
     ]
    }
   ],
   "source": [
    "print(np.linalg.eigvals(x))"
   ]
  },
  {
   "cell_type": "code",
   "execution_count": 9,
   "metadata": {},
   "outputs": [
    {
     "name": "stdout",
     "output_type": "stream",
     "text": [
      "[1. 2. 3.]\n",
      "[[1. 0. 0.]\n",
      " [0. 1. 0.]\n",
      " [0. 0. 1.]]\n"
     ]
    }
   ],
   "source": [
    "a, b = np.linalg.eig(x)\n",
    "print(a)\n",
    "print(b)"
   ]
  },
  {
   "cell_type": "code",
   "execution_count": 10,
   "metadata": {},
   "outputs": [
    {
     "name": "stdout",
     "output_type": "stream",
     "text": [
      "Right\n",
      "Right\n",
      "Right\n"
     ]
    }
   ],
   "source": [
    "for i in range(3):\n",
    "    if np.allclose(a[i]*b[:, i], np.dot(x, b[:, i])):\n",
    "        print('Right')\n",
    "    else:\n",
    "        print('Error')"
   ]
  },
  {
   "cell_type": "code",
   "execution_count": 11,
   "metadata": {},
   "outputs": [
    {
     "name": "stdout",
     "output_type": "stream",
     "text": [
      "[[ 0  1  2  3]\n",
      " [ 4  5  6  7]\n",
      " [ 8  9 10 11]\n",
      " [12 13 14 15]]\n",
      "[[ 0  5 10 15]\n",
      " [ 5 10 15 20]\n",
      " [10 15 20 25]\n",
      " [15 20 25 30]]\n",
      "[ 6.74165739e+01 -7.41657387e+00  1.82694656e-15 -1.72637110e-15]\n",
      "No\n"
     ]
    }
   ],
   "source": [
    "import numpy as np\n",
    "A = np.arange(16).reshape(4, 4)\n",
    "print(A)\n",
    "\n",
    "A = A + A.T\n",
    "print(A)\n",
    "\n",
    "B = np.linalg.eigvals(A)\n",
    "print(B)\n",
    "\n",
    "if np.all(B > 0):\n",
    "    print('Yes')\n",
    "else:\n",
    "    print('No')"
   ]
  },
  {
   "cell_type": "code",
   "execution_count": 15,
   "metadata": {},
   "outputs": [
    {
     "name": "stdout",
     "output_type": "stream",
     "text": [
      "[[ 4 11 14]\n",
      " [ 8  7 -2]]\n",
      "(2, 2)\n",
      "[[-0.9486833  -0.31622777]\n",
      " [-0.31622777  0.9486833 ]]\n",
      "(2,)\n",
      "[[18.97366596  0.        ]\n",
      " [ 0.          9.48683298]]\n",
      "(2, 3)\n",
      "[[-0.33333333 -0.66666667 -0.66666667]\n",
      " [ 0.66666667  0.33333333 -0.66666667]]\n",
      "[[ 4. 11. 14.]\n",
      " [ 8.  7. -2.]]\n"
     ]
    }
   ],
   "source": [
    "import numpy as np\n",
    "A = np.array([[4, 11, 14], [8, 7, -2]])\n",
    "print(A)\n",
    "\n",
    "u, s, vh = np.linalg.svd(A, full_matrices=False)\n",
    "print(u.shape)\n",
    "print(u)\n",
    "\n",
    "print(s.shape)\n",
    "print(np.diag(s))\n",
    "\n",
    "print(vh.shape)\n",
    "print(vh)\n",
    "\n",
    "a = np.dot(u, np.diag(s))\n",
    "a = np.dot(a, vh)\n",
    "print(a)"
   ]
  },
  {
   "cell_type": "code",
   "execution_count": 16,
   "metadata": {},
   "outputs": [
    {
     "name": "stdout",
     "output_type": "stream",
     "text": [
      "[[ 1  1]\n",
      " [ 1 -2]\n",
      " [ 2  1]]\n",
      "(3, 2)\n",
      "[[-5.34522484e-01 -1.11022302e-16]\n",
      " [ 2.67261242e-01 -9.48683298e-01]\n",
      " [-8.01783726e-01 -3.16227766e-01]]\n",
      "(2,)\n",
      "[[2.64575131 0.        ]\n",
      " [0.         2.23606798]]\n",
      "(2, 2)\n",
      "[[-0.70710678 -0.70710678]\n",
      " [-0.70710678  0.70710678]]\n"
     ]
    }
   ],
   "source": [
    "import numpy as np\n",
    "A = np.array([[1, 1], [1, -2], [2, 1]])\n",
    "print(A)\n",
    "\n",
    "u, s, vh = np.linalg.svd(A, full_matrices=False)\n",
    "print(u.shape)\n",
    "print(u)\n",
    "\n",
    "print(s.shape)\n",
    "print(np.diag(s))\n",
    "\n",
    "print(vh.shape)\n",
    "print(vh)"
   ]
  },
  {
   "cell_type": "code",
   "execution_count": 17,
   "metadata": {},
   "outputs": [
    {
     "name": "stdout",
     "output_type": "stream",
     "text": [
      "[[ 2 -2  3]\n",
      " [ 1  1  1]\n",
      " [ 1  3 -1]]\n",
      "(3, 3)\n",
      "[[-0.81649658  0.53452248  0.21821789]\n",
      " [-0.40824829 -0.26726124 -0.87287156]\n",
      " [-0.40824829 -0.80178373  0.43643578]]\n",
      "(3, 3)\n",
      "[[-2.44948974  0.         -2.44948974]\n",
      " [ 0.         -3.74165739  2.13808994]\n",
      " [ 0.          0.         -0.65465367]]\n",
      "[[ 2. -2.  3.]\n",
      " [ 1.  1.  1.]\n",
      " [ 1.  3. -1.]]\n"
     ]
    }
   ],
   "source": [
    "import numpy as np\n",
    "\n",
    "A = np.array([[2, -2, 3], [1, 1, 1], [1, 3, -1]])\n",
    "print(A)\n",
    "\n",
    "q, r = np.linalg.qr(A)\n",
    "print(q.shape)\n",
    "print(q)\n",
    "\n",
    "print(r.shape)\n",
    "print(r)\n",
    "\n",
    "print(np.dot(q, r))"
   ]
  },
  {
   "cell_type": "code",
   "execution_count": 23,
   "metadata": {},
   "outputs": [
    {
     "name": "stdout",
     "output_type": "stream",
     "text": [
      "10.0\n",
      "10\n",
      "5.477225575051661\n",
      "5.477225575051661\n",
      "1.0\n",
      "1\n",
      "4.0\n",
      "4\n"
     ]
    }
   ],
   "source": [
    "import numpy as np\n",
    "\n",
    "x = np.array([1, 2, 3, 4])\n",
    "print(np.linalg.norm(x, ord=1))\n",
    "print(np.sum(np.abs(x)))\n",
    "\n",
    "print(np.linalg.norm(x, ord=2))\n",
    "print(np.sum(np.abs(x) ** 2) ** 0.5)\n",
    "\n",
    "print(np.linalg.norm(x, ord=-np.inf))  \n",
    "# 1.0\n",
    "print(np.min(np.abs(x)))\n",
    "\n",
    "print(np.linalg.norm(x, ord=np.inf))  \n",
    "# 4.0\n",
    "print(np.max(np.abs(x)))"
   ]
  },
  {
   "cell_type": "code",
   "execution_count": 24,
   "metadata": {},
   "outputs": [
    {
     "name": "stdout",
     "output_type": "stream",
     "text": [
      "[[ 1  2  3  4]\n",
      " [ 2  3  5  8]\n",
      " [ 1  3  5  7]\n",
      " [ 3  4  7 11]]\n",
      "30.0\n",
      "30\n",
      "20.24345358700576\n",
      "20.24345358700576\n",
      "25.0\n",
      "20.273134932713294\n",
      "20.273134932713294\n"
     ]
    }
   ],
   "source": [
    "A = np.array([[1, 2, 3, 4], [2, 3, 5, 8], [1, 3, 5, 7], [3, 4, 7, 11]])\n",
    "print(A)\n",
    "\n",
    "print(np.linalg.norm(A, ord=1))\n",
    "print(np.max(np.sum(A, axis=0)))\n",
    "\n",
    "print(np.linalg.norm(A, ord=2))\n",
    "print(np.max(np.linalg.svd(A, compute_uv=False)))\n",
    "\n",
    "print(np.linalg.norm(A, ord=np.inf))\n",
    "print(np.linalg.norm(A, ord='fro'))\n",
    "\n",
    "print(np.sqrt(np.trace(np.dot(A.T, A))))"
   ]
  },
  {
   "cell_type": "code",
   "execution_count": 25,
   "metadata": {},
   "outputs": [
    {
     "name": "stdout",
     "output_type": "stream",
     "text": [
      "[[ 1 -2  1]\n",
      " [ 0  2 -1]\n",
      " [ 1  1 -2]]\n",
      "-2.9999999999999996\n"
     ]
    }
   ],
   "source": [
    "import numpy as np\n",
    "\n",
    "A = np.array([[1, -2, 1], [0, 2, -1], [1, 1, -2]])\n",
    "print(A)\n",
    "\n",
    "A_det = np.linalg.det(A)  \n",
    "print(A_det)"
   ]
  },
  {
   "cell_type": "code",
   "execution_count": 26,
   "metadata": {},
   "outputs": [
    {
     "name": "stdout",
     "output_type": "stream",
     "text": [
      "[[ 1.00000000e+00  1.00000000e+00 -1.11022302e-16]\n",
      " [ 3.33333333e-01  1.00000000e+00 -3.33333333e-01]\n",
      " [ 6.66666667e-01  1.00000000e+00 -6.66666667e-01]]\n",
      "True\n",
      "True\n"
     ]
    }
   ],
   "source": [
    "A_inverse = np.linalg.inv(A)  # 求A的逆矩阵\n",
    "print(A_inverse)\n",
    "\n",
    "x = np.allclose(np.dot(A, A_inverse), np.eye(3))\n",
    "print(x)  # True\n",
    "x = np.allclose(np.dot(A_inverse, A), np.eye(3))\n",
    "print(x) "
   ]
  },
  {
   "cell_type": "code",
   "execution_count": 27,
   "metadata": {},
   "outputs": [
    {
     "name": "stdout",
     "output_type": "stream",
     "text": [
      "[ 7.  1. -2.]\n",
      "[ 7.  1. -2.]\n",
      "True\n"
     ]
    }
   ],
   "source": [
    "import numpy as np\n",
    "\n",
    "A = np.array([[1, 2, 1], [2, -1, 3], [3, 1, 2]])\n",
    "b = np.array([7, 7, 18])\n",
    "x = np.linalg.solve(A, b)\n",
    "print(x)  # [ 7.  1. -2.]\n",
    "\n",
    "x = np.linalg.inv(A).dot(b)\n",
    "print(x)  # [ 7.  1. -2.]\n",
    "\n",
    "y = np.allclose(np.dot(A, x), b)\n",
    "print(y) "
   ]
  },
  {
   "cell_type": "code",
   "execution_count": null,
   "metadata": {},
   "outputs": [],
   "source": []
  }
 ],
 "metadata": {
  "kernelspec": {
   "display_name": "Python 3",
   "language": "python",
   "name": "python3"
  },
  "language_info": {
   "codemirror_mode": {
    "name": "ipython",
    "version": 3
   },
   "file_extension": ".py",
   "mimetype": "text/x-python",
   "name": "python",
   "nbconvert_exporter": "python",
   "pygments_lexer": "ipython3",
   "version": "3.7.6"
  }
 },
 "nbformat": 4,
 "nbformat_minor": 4
}

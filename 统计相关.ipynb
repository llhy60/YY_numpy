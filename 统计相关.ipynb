{
 "cells": [
  {
   "cell_type": "code",
   "execution_count": 2,
   "metadata": {},
   "outputs": [
    {
     "name": "stdout",
     "output_type": "stream",
     "text": [
      "11\n",
      "[11 12 13 14 15]\n",
      "[11 16 21 26 31]\n"
     ]
    }
   ],
   "source": [
    "# 计算最小值\n",
    "import numpy as np\n",
    "x = np.array([[11, 12, 13, 14, 15],\n",
    "              [16, 17, 18, 19, 20],\n",
    "              [21, 22, 23, 24, 25],\n",
    "              [26, 27, 28, 29, 30],\n",
    "              [31, 32, 33, 34, 35]])\n",
    "y = np.amin(x)\n",
    "print(y)\n",
    "\n",
    "y = np.amin(x, axis=0) #返回每列的最小值\n",
    "print(y)\n",
    "\n",
    "y = np.amin(x, axis=1) #返回每行的最小值\n",
    "print(y)"
   ]
  },
  {
   "cell_type": "code",
   "execution_count": 3,
   "metadata": {},
   "outputs": [
    {
     "name": "stdout",
     "output_type": "stream",
     "text": [
      "35\n",
      "[31 32 33 34 35]\n",
      "[15 20 25 30 35]\n"
     ]
    }
   ],
   "source": [
    "#计算最大值\n",
    "\n",
    "y = np.amax(x)\n",
    "print(y)\n",
    "\n",
    "y = np.amax(x, axis=0) # 返回每列的最大值\n",
    "print(y)\n",
    "\n",
    "y = np.amax(x, axis=1) # 返回每行的最大值\n",
    "print(y)"
   ]
  },
  {
   "cell_type": "code",
   "execution_count": 4,
   "metadata": {},
   "outputs": [
    {
     "name": "stdout",
     "output_type": "stream",
     "text": [
      "[[10  2  1  1 16]\n",
      " [18 11 10 14 10]\n",
      " [11  1  9 18  8]\n",
      " [16  2  0 15 16]]\n",
      "18\n",
      "[ 8 10 10 17  8]\n",
      "[15  8 17 16]\n"
     ]
    }
   ],
   "source": [
    "#计算极值\n",
    "np.random.seed(20200623)\n",
    "x = np.random.randint(0, 20, size=[4, 5])\n",
    "print(x)\n",
    "\n",
    "print(np.ptp(x))\n",
    "print(np.ptp(x, axis=0)) # 返回每列的极值\n",
    "print(np.ptp(x, axis=1)) # 返回每行的极值"
   ]
  },
  {
   "cell_type": "code",
   "execution_count": 5,
   "metadata": {},
   "outputs": [
    {
     "name": "stdout",
     "output_type": "stream",
     "text": [
      "[[10  2  1  1 16]\n",
      " [18 11 10 14 10]\n",
      " [11  1  9 18  8]\n",
      " [16  2  0 15 16]]\n",
      "[ 2. 10.]\n",
      "[[10.75  1.75  0.75 10.75  9.5 ]\n",
      " [13.5   2.    5.   14.5  13.  ]]\n",
      "[[ 1. 10.  8.  2.]\n",
      " [ 2. 11.  9. 15.]]\n"
     ]
    }
   ],
   "source": [
    "# 计算分位数\n",
    "np.random.seed(20200623)\n",
    "x = np.random.randint(0, 20, size=[4, 5])\n",
    "print(x)\n",
    "\n",
    "print(np.percentile(x, [25, 50]))  \n",
    "\n",
    "\n",
    "print(np.percentile(x, [25, 50], axis=0))\n",
    "\n",
    "print(np.percentile(x, [25, 50], axis=1))"
   ]
  },
  {
   "cell_type": "code",
   "execution_count": 6,
   "metadata": {},
   "outputs": [
    {
     "name": "stdout",
     "output_type": "stream",
     "text": [
      "[[10  2  1  1 16]\n",
      " [18 11 10 14 10]\n",
      " [11  1  9 18  8]\n",
      " [16  2  0 15 16]]\n",
      "10.0\n",
      "10.0\n",
      "[13.5  2.   5.  14.5 13. ]\n",
      "[13.5  2.   5.  14.5 13. ]\n",
      "[ 2. 11.  9. 15.]\n",
      "[ 2. 11.  9. 15.]\n"
     ]
    }
   ],
   "source": [
    "# 计算中位数\n",
    "np.random.seed(20200623)\n",
    "x = np.random.randint(0, 20, size=[4, 5])\n",
    "print(x)\n",
    "print(np.percentile(x, 50))\n",
    "print(np.median(x))\n",
    "\n",
    "\n",
    "print(np.percentile(x, 50, axis=0))\n",
    "print(np.median(x, axis=0))\n",
    "\n",
    "print(np.percentile(x, 50, axis=1))\n",
    "print(np.median(x, axis=1))"
   ]
  },
  {
   "cell_type": "code",
   "execution_count": 7,
   "metadata": {},
   "outputs": [
    {
     "name": "stdout",
     "output_type": "stream",
     "text": [
      "23.0\n",
      "[21. 22. 23. 24. 25.]\n",
      "[13. 18. 23. 28. 33.]\n"
     ]
    }
   ],
   "source": [
    "# 计算平均值\n",
    "x = np.array([[11, 12, 13, 14, 15],\n",
    "              [16, 17, 18, 19, 20],\n",
    "              [21, 22, 23, 24, 25],\n",
    "              [26, 27, 28, 29, 30],\n",
    "              [31, 32, 33, 34, 35]])\n",
    "y = np.mean(x)\n",
    "print(y)  \n",
    "\n",
    "y = np.mean(x, axis=0)\n",
    "print(y)  \n",
    "\n",
    "y = np.mean(x, axis=1)\n",
    "print(y) "
   ]
  },
  {
   "cell_type": "code",
   "execution_count": 8,
   "metadata": {},
   "outputs": [
    {
     "name": "stdout",
     "output_type": "stream",
     "text": [
      "23.0\n",
      "[21. 22. 23. 24. 25.]\n",
      "[13. 18. 23. 28. 33.]\n",
      "[[ 1  2  3  4  5]\n",
      " [ 6  7  8  9 10]\n",
      " [11 12 13 14 15]\n",
      " [16 17 18 19 20]\n",
      " [21 22 23 24 25]]\n",
      "27.0\n",
      "[25.54545455 26.16666667 26.84615385 27.57142857 28.33333333]\n",
      "[13.66666667 18.25       23.15384615 28.11111111 33.08695652]\n"
     ]
    }
   ],
   "source": [
    "# 计算加权平均\n",
    "x = np.array([[11, 12, 13, 14, 15],\n",
    "              [16, 17, 18, 19, 20],\n",
    "              [21, 22, 23, 24, 25],\n",
    "              [26, 27, 28, 29, 30],\n",
    "              [31, 32, 33, 34, 35]])\n",
    "y = np.average(x)\n",
    "print(y)  # 23.0\n",
    "\n",
    "y = np.average(x, axis=0)\n",
    "print(y)  # [21. 22. 23. 24. 25.]\n",
    "\n",
    "y = np.average(x, axis=1)\n",
    "print(y)  # [13. 18. 23. 28. 33.]\n",
    "\n",
    "\n",
    "y = np.arange(1, 26).reshape([5, 5])\n",
    "print(y)\n",
    "\n",
    "z = np.average(x, weights=y)\n",
    "print(z)  # 27.0\n",
    "\n",
    "z = np.average(x, axis=0, weights=y)\n",
    "print(z)\n",
    "\n",
    "\n",
    "z = np.average(x, axis=1, weights=y)\n",
    "print(z)\n"
   ]
  },
  {
   "cell_type": "code",
   "execution_count": 9,
   "metadata": {},
   "outputs": [
    {
     "name": "stdout",
     "output_type": "stream",
     "text": [
      "52.0\n",
      "52.0\n",
      "54.166666666666664\n",
      "54.166666666666664\n",
      "[50. 50. 50. 50. 50.]\n",
      "[2. 2. 2. 2. 2.]\n"
     ]
    }
   ],
   "source": [
    "# 计算方差\n",
    "x = np.array([[11, 12, 13, 14, 15],\n",
    "              [16, 17, 18, 19, 20],\n",
    "              [21, 22, 23, 24, 25],\n",
    "              [26, 27, 28, 29, 30],\n",
    "              [31, 32, 33, 34, 35]])\n",
    "y = np.var(x)\n",
    "print(y)  \n",
    "y = np.mean((x - np.mean(x)) ** 2)\n",
    "print(y)  \n",
    "\n",
    "y = np.var(x, ddof=1)\n",
    "print(y)  \n",
    "y = np.sum((x - np.mean(x)) ** 2) / (x.size - 1)\n",
    "print(y)  \n",
    "\n",
    "y = np.var(x, axis=0)\n",
    "print(y)  \n",
    "\n",
    "y = np.var(x, axis=1)\n",
    "print(y)  "
   ]
  },
  {
   "cell_type": "code",
   "execution_count": 10,
   "metadata": {},
   "outputs": [
    {
     "name": "stdout",
     "output_type": "stream",
     "text": [
      "7.211102550927978\n",
      "7.211102550927978\n",
      "[7.07106781 7.07106781 7.07106781 7.07106781 7.07106781]\n",
      "[1.41421356 1.41421356 1.41421356 1.41421356 1.41421356]\n"
     ]
    }
   ],
   "source": [
    "# 计算标准差\n",
    "x = np.array([[11, 12, 13, 14, 15],\n",
    "              [16, 17, 18, 19, 20],\n",
    "              [21, 22, 23, 24, 25],\n",
    "              [26, 27, 28, 29, 30],\n",
    "              [31, 32, 33, 34, 35]])\n",
    "y = np.std(x)\n",
    "print(y) \n",
    "y = np.sqrt(np.var(x))\n",
    "print(y) \n",
    "\n",
    "y = np.std(x, axis=0)\n",
    "print(y)\n",
    "\n",
    "\n",
    "y = np.std(x, axis=1)\n",
    "print(y)"
   ]
  },
  {
   "cell_type": "code",
   "execution_count": 11,
   "metadata": {},
   "outputs": [
    {
     "name": "stdout",
     "output_type": "stream",
     "text": [
      "3.7\n",
      "8.5\n",
      "[[3.7  5.25]\n",
      " [5.25 8.5 ]]\n",
      "2.96\n",
      "3.7\n",
      "6.8\n",
      "8.5\n",
      "4.2\n",
      "5.25\n",
      "5.25\n"
     ]
    }
   ],
   "source": [
    "#计算协方差举证\n",
    "x = [1, 2, 3, 4, 6]\n",
    "y = [0, 2, 5, 6, 7]\n",
    "print(np.cov(x))  \n",
    "print(np.cov(y))  \n",
    "print(np.cov(x, y))\n",
    "\n",
    "\n",
    "print(np.var(x))  # 2.96    \n",
    "print(np.var(x, ddof=1))  \n",
    "print(np.var(y))  # 6.8    \n",
    "print(np.var(y, ddof=1)) \n",
    "\n",
    "z = np.mean((x - np.mean(x)) * (y - np.mean(y)))   \n",
    "print(z)  # 4.2\n",
    "\n",
    "z = np.sum((x - np.mean(x)) * (y - np.mean(y))) / (len(x) - 1)  \n",
    "print(z)  # 5.25\n",
    "\n",
    "z = np.dot(x - np.mean(x), y - np.mean(y)) / (len(x) - 1)      \n",
    "print(z) "
   ]
  },
  {
   "cell_type": "code",
   "execution_count": 12,
   "metadata": {},
   "outputs": [
    {
     "name": "stdout",
     "output_type": "stream",
     "text": [
      "[10  2  1  1]\n",
      "[16 18 11 10]\n",
      "[[1.         0.48510096]\n",
      " [0.48510096 1.        ]]\n",
      "0.4851009629263671\n"
     ]
    }
   ],
   "source": [
    "# 计算相关系数\n",
    "np.random.seed(20200623)\n",
    "x, y = np.random.randint(0, 20, size=(2, 4))\n",
    "\n",
    "print(x)  \n",
    "print(y)  \n",
    "\n",
    "z = np.corrcoef(x, y)\n",
    "print(z)\n",
    "\n",
    "\n",
    "a = np.dot(x - np.mean(x), y - np.mean(y))\n",
    "b = np.sqrt(np.dot(x - np.mean(x), x - np.mean(x)))\n",
    "c = np.sqrt(np.dot(y - np.mean(y), y - np.mean(y)))\n",
    "print(a / (b * c))  "
   ]
  },
  {
   "cell_type": "code",
   "execution_count": null,
   "metadata": {},
   "outputs": [],
   "source": []
  }
 ],
 "metadata": {
  "kernelspec": {
   "display_name": "Python 3",
   "language": "python",
   "name": "python3"
  },
  "language_info": {
   "codemirror_mode": {
    "name": "ipython",
    "version": 3
   },
   "file_extension": ".py",
   "mimetype": "text/x-python",
   "name": "python",
   "nbconvert_exporter": "python",
   "pygments_lexer": "ipython3",
   "version": "3.7.6"
  }
 },
 "nbformat": 4,
 "nbformat_minor": 4
}

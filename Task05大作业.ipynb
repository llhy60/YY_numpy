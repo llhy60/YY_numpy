{
 "cells": [
  {
   "cell_type": "code",
   "execution_count": 1,
   "metadata": {},
   "outputs": [],
   "source": [
    "import numpy as np"
   ]
  },
  {
   "cell_type": "code",
   "execution_count": 21,
   "metadata": {},
   "outputs": [
    {
     "data": {
      "text/plain": [
       "array([[5.1, 3.5, 1.4, 0.2],\n",
       "       [4.9, 3. , 1.4, 0.2],\n",
       "       [4.7, 3.2, 1.3, 0.2],\n",
       "       [4.6, 3.1, 1.5, 0.2],\n",
       "       [5. , 3.6, 1.4, 0.2]])"
      ]
     },
     "execution_count": 21,
     "metadata": {},
     "output_type": "execute_result"
    }
   ],
   "source": [
    "# 1. 导入鸢尾属植物数据集，保持文本不变\n",
    "iris = np.genfromtxt('./iris.csv',delimiter=',', skip_header=1, usecols=(0,1,2,3))\n",
    "iris[0:5]"
   ]
  },
  {
   "cell_type": "code",
   "execution_count": 25,
   "metadata": {},
   "outputs": [
    {
     "name": "stdout",
     "output_type": "stream",
     "text": [
      "5.843333333333335\n",
      "5.8\n",
      "0.8253012917851409\n"
     ]
    }
   ],
   "source": [
    "#2. 求出鸢尾属植物萼片长度的平均值、中位数和标准差（第1列，sepallength\n",
    "print(np.mean(iris, axis=0)[0])   #平均值\n",
    "print(np.median(iris, axis=0)[0]) #中位数 \n",
    "print(np.std(iris, axis=0)[0])    #标准差"
   ]
  },
  {
   "cell_type": "code",
   "execution_count": 28,
   "metadata": {},
   "outputs": [],
   "source": [
    "#3. 创建一种标准化形式的鸢尾属植物萼片长度，其值正好介于0和1之间，这样最小值为0，最大值为1（第1列，sepallength）\n",
    "# 0， 1标准化\n",
    "min_sepallength = np.min(iris, axis=0)[0]\n",
    "max_sepallength  = np.max(iris, axis=0)[0]\n",
    "std = (iris[:, 0] - min_sepallength)/max_sepallength\n",
    "print(std)"
   ]
  },
  {
   "cell_type": "code",
   "execution_count": 29,
   "metadata": {},
   "outputs": [
    {
     "data": {
      "text/plain": [
       "array([4.6  , 7.255])"
      ]
     },
     "execution_count": 29,
     "metadata": {},
     "output_type": "execute_result"
    }
   ],
   "source": [
    "#4.找到鸢尾属植物萼片长度的第5和第95百分位数（第1列，sepallength）\n",
    "np.percentile(iris[:, 0], [5, 95])"
   ]
  },
  {
   "cell_type": "code",
   "execution_count": 35,
   "metadata": {},
   "outputs": [],
   "source": [
    "#5. 把iris_data数据集中的20个随机位置修改为np.nan值\n",
    "indexes = list(set(np.random.randint(low=0, high = 150, size = 30)))[0:20]\n",
    "col1 = iris[:, 0]\n",
    "col1[indexes] = np.nan"
   ]
  },
  {
   "cell_type": "code",
   "execution_count": 37,
   "metadata": {},
   "outputs": [
    {
     "name": "stdout",
     "output_type": "stream",
     "text": [
      "[[  1]\n",
      " [ 11]\n",
      " [ 22]\n",
      " [ 25]\n",
      " [ 28]\n",
      " [ 30]\n",
      " [ 32]\n",
      " [ 36]\n",
      " [ 37]\n",
      " [ 38]\n",
      " [ 40]\n",
      " [ 49]\n",
      " [ 56]\n",
      " [ 59]\n",
      " [ 61]\n",
      " [ 65]\n",
      " [ 71]\n",
      " [132]\n",
      " [135]\n",
      " [137]]\n",
      "(20, 1)\n"
     ]
    }
   ],
   "source": [
    "#6. 在iris_data的sepallength中查找缺失值的个数和位置（第1列）\n",
    "nan_index = np.argwhere(np.isnan(col1))\n",
    "print(nan_index)\n",
    "print(nan_index.shape)"
   ]
  },
  {
   "cell_type": "code",
   "execution_count": 41,
   "metadata": {},
   "outputs": [
    {
     "data": {
      "text/plain": [
       "(24, 4)"
      ]
     },
     "execution_count": 41,
     "metadata": {},
     "output_type": "execute_result"
    }
   ],
   "source": [
    "#7. 筛选具有 sepallength（第1列）< 5.0 并且 petallength（第3列）> 1.5 的 iris_data行\n",
    "value = iris[(iris[:, 1]<5)&(iris[:, 2]<1.5)]\n",
    "value.shape"
   ]
  },
  {
   "cell_type": "code",
   "execution_count": 55,
   "metadata": {},
   "outputs": [
    {
     "data": {
      "text/plain": [
       "(130, 4)"
      ]
     },
     "execution_count": 55,
     "metadata": {},
     "output_type": "execute_result"
    }
   ],
   "source": [
    "#8. 选择没有任何 nan 值的 iris_data行\n",
    "iris1 = iris[~np.isnan(iris[:, 0])]\n",
    "iris1.shape"
   ]
  },
  {
   "cell_type": "code",
   "execution_count": 56,
   "metadata": {},
   "outputs": [
    {
     "name": "stdout",
     "output_type": "stream",
     "text": [
      "[[1.         0.86319659]\n",
      " [0.86319659 1.        ]]\n"
     ]
    }
   ],
   "source": [
    "#9. 计算 iris_data 中sepalLength（第1列）和petalLength（第3列）之间的相关系数\n",
    "score = np.corrcoef(iris1[:, 0], iris1[:, 2])\n",
    "print(score)"
   ]
  },
  {
   "cell_type": "code",
   "execution_count": 57,
   "metadata": {},
   "outputs": [
    {
     "data": {
      "text/plain": [
       "array([[False, False, False, False],\n",
       "       [ True, False, False, False],\n",
       "       [False, False, False, False],\n",
       "       [False, False, False, False],\n",
       "       [False, False, False, False],\n",
       "       [False, False, False, False],\n",
       "       [False, False, False, False],\n",
       "       [False, False, False, False],\n",
       "       [False, False, False, False],\n",
       "       [False, False, False, False],\n",
       "       [False, False, False, False],\n",
       "       [ True, False, False, False],\n",
       "       [False, False, False, False],\n",
       "       [False, False, False, False],\n",
       "       [False, False, False, False],\n",
       "       [False, False, False, False],\n",
       "       [False, False, False, False],\n",
       "       [False, False, False, False],\n",
       "       [False, False, False, False],\n",
       "       [False, False, False, False],\n",
       "       [False, False, False, False],\n",
       "       [False, False, False, False],\n",
       "       [ True, False, False, False],\n",
       "       [False, False, False, False],\n",
       "       [False, False, False, False],\n",
       "       [ True, False, False, False],\n",
       "       [False, False, False, False],\n",
       "       [False, False, False, False],\n",
       "       [ True, False, False, False],\n",
       "       [False, False, False, False],\n",
       "       [ True, False, False, False],\n",
       "       [False, False, False, False],\n",
       "       [ True, False, False, False],\n",
       "       [False, False, False, False],\n",
       "       [False, False, False, False],\n",
       "       [False, False, False, False],\n",
       "       [ True, False, False, False],\n",
       "       [ True, False, False, False],\n",
       "       [ True, False, False, False],\n",
       "       [False, False, False, False],\n",
       "       [ True, False, False, False],\n",
       "       [False, False, False, False],\n",
       "       [False, False, False, False],\n",
       "       [False, False, False, False],\n",
       "       [False, False, False, False],\n",
       "       [False, False, False, False],\n",
       "       [False, False, False, False],\n",
       "       [False, False, False, False],\n",
       "       [False, False, False, False],\n",
       "       [ True, False, False, False],\n",
       "       [False, False, False, False],\n",
       "       [False, False, False, False],\n",
       "       [False, False, False, False],\n",
       "       [False, False, False, False],\n",
       "       [False, False, False, False],\n",
       "       [False, False, False, False],\n",
       "       [ True, False, False, False],\n",
       "       [False, False, False, False],\n",
       "       [False, False, False, False],\n",
       "       [ True, False, False, False],\n",
       "       [False, False, False, False],\n",
       "       [ True, False, False, False],\n",
       "       [False, False, False, False],\n",
       "       [False, False, False, False],\n",
       "       [False, False, False, False],\n",
       "       [ True, False, False, False],\n",
       "       [False, False, False, False],\n",
       "       [False, False, False, False],\n",
       "       [False, False, False, False],\n",
       "       [False, False, False, False],\n",
       "       [False, False, False, False],\n",
       "       [ True, False, False, False],\n",
       "       [False, False, False, False],\n",
       "       [False, False, False, False],\n",
       "       [False, False, False, False],\n",
       "       [False, False, False, False],\n",
       "       [False, False, False, False],\n",
       "       [False, False, False, False],\n",
       "       [False, False, False, False],\n",
       "       [False, False, False, False],\n",
       "       [False, False, False, False],\n",
       "       [False, False, False, False],\n",
       "       [False, False, False, False],\n",
       "       [False, False, False, False],\n",
       "       [False, False, False, False],\n",
       "       [False, False, False, False],\n",
       "       [False, False, False, False],\n",
       "       [False, False, False, False],\n",
       "       [False, False, False, False],\n",
       "       [False, False, False, False],\n",
       "       [False, False, False, False],\n",
       "       [False, False, False, False],\n",
       "       [False, False, False, False],\n",
       "       [False, False, False, False],\n",
       "       [False, False, False, False],\n",
       "       [False, False, False, False],\n",
       "       [False, False, False, False],\n",
       "       [False, False, False, False],\n",
       "       [False, False, False, False],\n",
       "       [False, False, False, False],\n",
       "       [False, False, False, False],\n",
       "       [False, False, False, False],\n",
       "       [False, False, False, False],\n",
       "       [False, False, False, False],\n",
       "       [False, False, False, False],\n",
       "       [False, False, False, False],\n",
       "       [False, False, False, False],\n",
       "       [False, False, False, False],\n",
       "       [False, False, False, False],\n",
       "       [False, False, False, False],\n",
       "       [False, False, False, False],\n",
       "       [False, False, False, False],\n",
       "       [False, False, False, False],\n",
       "       [False, False, False, False],\n",
       "       [False, False, False, False],\n",
       "       [False, False, False, False],\n",
       "       [False, False, False, False],\n",
       "       [False, False, False, False],\n",
       "       [False, False, False, False],\n",
       "       [False, False, False, False],\n",
       "       [False, False, False, False],\n",
       "       [False, False, False, False],\n",
       "       [False, False, False, False],\n",
       "       [False, False, False, False],\n",
       "       [False, False, False, False],\n",
       "       [False, False, False, False],\n",
       "       [False, False, False, False],\n",
       "       [False, False, False, False],\n",
       "       [False, False, False, False],\n",
       "       [False, False, False, False],\n",
       "       [False, False, False, False],\n",
       "       [False, False, False, False],\n",
       "       [ True, False, False, False],\n",
       "       [False, False, False, False],\n",
       "       [False, False, False, False],\n",
       "       [ True, False, False, False],\n",
       "       [False, False, False, False],\n",
       "       [ True, False, False, False],\n",
       "       [False, False, False, False],\n",
       "       [False, False, False, False],\n",
       "       [False, False, False, False],\n",
       "       [False, False, False, False],\n",
       "       [False, False, False, False],\n",
       "       [False, False, False, False],\n",
       "       [False, False, False, False],\n",
       "       [False, False, False, False],\n",
       "       [False, False, False, False],\n",
       "       [False, False, False, False],\n",
       "       [False, False, False, False],\n",
       "       [False, False, False, False]])"
      ]
     },
     "execution_count": 57,
     "metadata": {},
     "output_type": "execute_result"
    }
   ],
   "source": [
    "# 10. 找出iris_data是否有任何缺失值\n",
    "np.isnan(iris)"
   ]
  },
  {
   "cell_type": "code",
   "execution_count": 60,
   "metadata": {},
   "outputs": [],
   "source": [
    "#11. 在numpy数组中将所有出现的nan替换为0。\n",
    "iris[np.isnan(iris)]=0"
   ]
  },
  {
   "cell_type": "code",
   "execution_count": 63,
   "metadata": {},
   "outputs": [
    {
     "name": "stdout",
     "output_type": "stream",
     "text": [
      "[0.  0.1 0.2 0.3 0.4 0.5 0.6 1.  1.1 1.2 1.3 1.4 1.5 1.6 1.7 1.8 1.9 2.\n",
      " 2.1 2.2 2.3 2.4 2.5 2.6 2.7 2.8 2.9 3.  3.1 3.2 3.3 3.4 3.5 3.6 3.7 3.8\n",
      " 3.9 4.  4.1 4.2 4.3 4.4 4.5 4.6 4.7 4.8 4.9 5.  5.1 5.2 5.3 5.4 5.5 5.6\n",
      " 5.7 5.8 5.9 6.  6.1 6.2 6.3 6.4 6.5 6.6 6.7 6.8 6.9 7.  7.1 7.2 7.3 7.4\n",
      " 7.6 7.7 7.9]\n",
      "75\n"
     ]
    }
   ],
   "source": [
    "#12. 找出鸢尾属植物物种中的唯一值和唯一值出现的数量\n",
    "print(np.unique(iris))\n",
    "print(len(np.unique(iris)))"
   ]
  },
  {
   "cell_type": "code",
   "execution_count": 68,
   "metadata": {},
   "outputs": [],
   "source": [
    "#13. 将 iris_data 的花瓣长度（第3列）以形成分类变量的形式显示。定义：Less than 3 --> ‘small’；3-5 --> ‘medium’；’>=5 --> ‘large’\n",
    "petal_length_bin = np.digitize(iris[:, 2].astype('float'), [0, 3, 5])\n",
    "label_map = {1: 'small', 2: 'medium', 3: 'large'}\n",
    "petal_length_cat = [label_map[x] for x in petal_length_bin]"
   ]
  },
  {
   "cell_type": "code",
   "execution_count": 75,
   "metadata": {},
   "outputs": [],
   "source": [
    "# 14. 在 iris_data 中创建一个新列，其中 volume 是 (pi x petallength x sepallength ^ 2）/ 3\n",
    "b = np.pi*iris[:, 0]*(iris[:, 3]*iris[:, 3])/3\n",
    "iris_new = np.insert(iris, 4, values=b, axis=1)\n",
    "print(iris)"
   ]
  },
  {
   "cell_type": "code",
   "execution_count": 87,
   "metadata": {},
   "outputs": [
    {
     "data": {
      "text/plain": [
       "array([ 4,  8, 11,  9,  7,  8,  9,  6,  7,  4,  4,  5,  6,  5,  8,  9, 10,\n",
       "        3,  9,  8,  6])"
      ]
     },
     "execution_count": 87,
     "metadata": {},
     "output_type": "execute_result"
    }
   ],
   "source": [
    "#15. 随机抽鸢尾属植物的种类，使得Iris-setosa的数量是Iris-versicolor和Iris-virginica数量的两倍。\n",
    "x = np.random.hypergeometric(ngood=50, nbad=100, nsample=21, size=21)\n",
    "x"
   ]
  },
  {
   "cell_type": "code",
   "execution_count": 85,
   "metadata": {},
   "outputs": [
    {
     "name": "stdout",
     "output_type": "stream",
     "text": [
      "[[0.  3.6 1.  0.2]\n",
      " [0.  3.  1.6 0.2]\n",
      " [0.  3.1 1.6 0.2]\n",
      " [0.  2.8 5.6 2.2]\n",
      " [0.  3.1 5.5 1.8]\n",
      " [0.  3.3 4.7 1.6]\n",
      " [0.  4.1 1.5 0.1]\n",
      " [0.  2.7 3.9 1.4]\n",
      " [0.  3.3 1.4 0.2]\n",
      " [0.  3.  4.2 1.5]\n",
      " [0.  3.1 4.4 1.4]\n",
      " [0.  3.5 1.3 0.2]\n",
      " [0.  3.  6.1 2.3]\n",
      " [0.  2.8 4.  1.3]\n",
      " [0.  3.6 1.4 0.1]\n",
      " [0.  3.4 1.6 0.2]\n",
      " [0.  3.  1.3 0.2]\n",
      " [0.  3.5 1.3 0.3]\n",
      " [0.  3.  1.4 0.2]\n",
      " [0.  3.4 1.4 0.2]\n",
      " [4.3 3.  1.1 0.1]\n",
      " [4.4 2.9 1.4 0.2]\n",
      " [4.4 3.2 1.3 0.2]\n",
      " [4.5 2.3 1.3 0.3]\n",
      " [4.6 3.2 1.4 0.2]\n",
      " [4.6 3.4 1.4 0.3]\n",
      " [4.6 3.1 1.5 0.2]\n",
      " [4.7 3.2 1.3 0.2]\n",
      " [4.7 3.2 1.6 0.2]\n",
      " [4.8 3.  1.4 0.3]\n",
      " [4.8 3.4 1.9 0.2]\n",
      " [4.8 3.  1.4 0.1]\n",
      " [4.9 2.4 3.3 1. ]\n",
      " [4.9 3.1 1.5 0.2]\n",
      " [4.9 2.5 4.5 1.7]\n",
      " [4.9 3.1 1.5 0.1]\n",
      " [5.  2.  3.5 1. ]\n",
      " [5.  3.2 1.2 0.2]\n",
      " [5.  3.4 1.5 0.2]\n",
      " [5.  2.3 3.3 1. ]\n",
      " [5.  3.6 1.4 0.2]\n",
      " [5.  3.4 1.6 0.4]\n",
      " [5.  3.5 1.6 0.6]\n",
      " [5.1 3.8 1.6 0.2]\n",
      " [5.1 2.5 3.  1.1]\n",
      " [5.1 3.5 1.4 0.2]\n",
      " [5.1 3.7 1.5 0.4]\n",
      " [5.1 3.4 1.5 0.2]\n",
      " [5.1 3.3 1.7 0.5]\n",
      " [5.1 3.8 1.9 0.4]\n",
      " [5.1 3.5 1.4 0.3]\n",
      " [5.1 3.8 1.5 0.3]\n",
      " [5.2 3.5 1.5 0.2]\n",
      " [5.3 3.7 1.5 0.2]\n",
      " [5.4 3.9 1.3 0.4]\n",
      " [5.4 3.  4.5 1.5]\n",
      " [5.4 3.4 1.5 0.4]\n",
      " [5.4 3.7 1.5 0.2]\n",
      " [5.4 3.9 1.7 0.4]\n",
      " [5.4 3.4 1.7 0.2]\n",
      " [5.5 2.5 4.  1.3]\n",
      " [5.5 2.4 3.7 1. ]\n",
      " [5.5 2.6 4.4 1.2]\n",
      " [5.5 2.3 4.  1.3]\n",
      " [5.5 4.2 1.4 0.2]\n",
      " [5.5 2.4 3.8 1.1]\n",
      " [5.6 2.7 4.2 1.3]\n",
      " [5.6 2.5 3.9 1.1]\n",
      " [5.6 3.  4.5 1.5]\n",
      " [5.6 3.  4.1 1.3]\n",
      " [5.6 2.9 3.6 1.3]\n",
      " [5.6 2.8 4.9 2. ]\n",
      " [5.7 2.8 4.5 1.3]\n",
      " [5.7 2.8 4.1 1.3]\n",
      " [5.7 2.9 4.2 1.3]\n",
      " [5.7 3.  4.2 1.2]\n",
      " [5.7 2.5 5.  2. ]\n",
      " [5.7 4.4 1.5 0.4]\n",
      " [5.7 2.6 3.5 1. ]\n",
      " [5.7 3.8 1.7 0.3]\n",
      " [5.8 2.7 5.1 1.9]\n",
      " [5.8 2.7 3.9 1.2]\n",
      " [5.8 2.7 4.1 1. ]\n",
      " [5.8 4.  1.2 0.2]\n",
      " [5.8 2.7 5.1 1.9]\n",
      " [5.8 2.6 4.  1.2]\n",
      " [5.8 2.8 5.1 2.4]\n",
      " [5.9 3.  5.1 1.8]\n",
      " [5.9 3.2 4.8 1.8]\n",
      " [6.  3.4 4.5 1.6]\n",
      " [6.  2.7 5.1 1.6]\n",
      " [6.  2.9 4.5 1.5]\n",
      " [6.  2.2 4.  1. ]\n",
      " [6.  3.  4.8 1.8]\n",
      " [6.  2.2 5.  1.5]\n",
      " [6.1 2.9 4.7 1.4]\n",
      " [6.1 3.  4.6 1.4]\n",
      " [6.1 2.6 5.6 1.4]\n",
      " [6.1 3.  4.9 1.8]\n",
      " [6.1 2.8 4.7 1.2]\n",
      " [6.2 2.2 4.5 1.5]\n",
      " [6.2 2.8 4.8 1.8]\n",
      " [6.2 2.9 4.3 1.3]\n",
      " [6.2 3.4 5.4 2.3]\n",
      " [6.3 2.8 5.1 1.5]\n",
      " [6.3 2.9 5.6 1.8]\n",
      " [6.3 2.5 4.9 1.5]\n",
      " [6.3 2.3 4.4 1.3]\n",
      " [6.3 2.7 4.9 1.8]\n",
      " [6.3 2.5 5.  1.9]\n",
      " [6.3 3.4 5.6 2.4]\n",
      " [6.3 3.3 6.  2.5]\n",
      " [6.4 3.2 5.3 2.3]\n",
      " [6.4 2.8 5.6 2.1]\n",
      " [6.4 2.9 4.3 1.3]\n",
      " [6.4 3.2 4.5 1.5]\n",
      " [6.4 2.7 5.3 1.9]\n",
      " [6.5 3.2 5.1 2. ]\n",
      " [6.5 3.  5.5 1.8]\n",
      " [6.5 3.  5.8 2.2]\n",
      " [6.5 2.8 4.6 1.5]\n",
      " [6.5 3.  5.2 2. ]\n",
      " [6.6 2.9 4.6 1.3]\n",
      " [6.6 3.  4.4 1.4]\n",
      " [6.7 3.3 5.7 2.5]\n",
      " [6.7 3.  5.2 2.3]\n",
      " [6.7 3.1 5.6 2.4]\n",
      " [6.7 3.1 4.7 1.5]\n",
      " [6.7 3.3 5.7 2.1]\n",
      " [6.7 3.  5.  1.7]\n",
      " [6.7 2.5 5.8 1.8]\n",
      " [6.8 2.8 4.8 1.4]\n",
      " [6.8 3.  5.5 2.1]\n",
      " [6.8 3.2 5.9 2.3]\n",
      " [6.9 3.2 5.7 2.3]\n",
      " [6.9 3.1 4.9 1.5]\n",
      " [6.9 3.1 5.4 2.1]\n",
      " [6.9 3.1 5.1 2.3]\n",
      " [7.  3.2 4.7 1.4]\n",
      " [7.1 3.  5.9 2.1]\n",
      " [7.2 3.  5.8 1.6]\n",
      " [7.2 3.6 6.1 2.5]\n",
      " [7.2 3.2 6.  1.8]\n",
      " [7.3 2.9 6.3 1.8]\n",
      " [7.4 2.8 6.1 1.9]\n",
      " [7.6 3.  6.6 2.1]\n",
      " [7.7 2.6 6.9 2.3]\n",
      " [7.7 2.8 6.7 2. ]\n",
      " [7.7 3.8 6.7 2.2]\n",
      " [7.9 3.8 6.4 2. ]]\n"
     ]
    }
   ],
   "source": [
    "#16. 根据 sepallength 列对数据集进行排序\n",
    "iris2 = iris[iris[:,0].argsort()]\n",
    "print(iris2)"
   ]
  },
  {
   "cell_type": "code",
   "execution_count": 78,
   "metadata": {},
   "outputs": [
    {
     "name": "stdout",
     "output_type": "stream",
     "text": [
      "[(1.4, 13)]\n"
     ]
    }
   ],
   "source": [
    "#17. 在鸢尾属植物数据集中找到最常见的花瓣长度值（第3列）\n",
    "from collections import Counter\n",
    "a = iris[:, 2]\n",
    "b = Counter(a)\n",
    "print(b.most_common(1))"
   ]
  },
  {
   "cell_type": "code",
   "execution_count": 82,
   "metadata": {},
   "outputs": [
    {
     "data": {
      "text/plain": [
       "50"
      ]
     },
     "execution_count": 82,
     "metadata": {},
     "output_type": "execute_result"
    }
   ],
   "source": [
    "#18. 在鸢尾花数据集的 petalwidth（第4列）中查找第一次出现的值大于1.0的位置\n",
    "np.arange(len(iris[:, 3] ))[iris[:, 3] > 1][0]"
   ]
  },
  {
   "cell_type": "code",
   "execution_count": null,
   "metadata": {},
   "outputs": [],
   "source": []
  }
 ],
 "metadata": {
  "kernelspec": {
   "display_name": "Python 3",
   "language": "python",
   "name": "python3"
  },
  "language_info": {
   "codemirror_mode": {
    "name": "ipython",
    "version": 3
   },
   "file_extension": ".py",
   "mimetype": "text/x-python",
   "name": "python",
   "nbconvert_exporter": "python",
   "pygments_lexer": "ipython3",
   "version": "3.7.6"
  }
 },
 "nbformat": 4,
 "nbformat_minor": 4
}
